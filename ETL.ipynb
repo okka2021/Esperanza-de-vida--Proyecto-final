{
 "cells": [
  {
   "cell_type": "code",
   "execution_count": null,
   "metadata": {},
   "outputs": [],
   "source": [
    "import pandas as pd\n",
    "import numpy as np\n",
    "from google.cloud import storage\n",
    "from google.oauth2.service_account import Credentials\n",
    "\n",
    "\n",
    "credentials_path = 'credentials.json'\n",
    "credentials = Credentials.from_service_account_file(credentials_path)\n",
    "client = storage.Client(credentials=credentials)\n",
    "\n",
    "\n",
    "# Descargar un archivo de Google Cloud Storage\n",
    "bucket_name = 'world_bank_data'\n",
    "blob_name1 = 'indicadores_latinoamerica.csv' \n",
    "local_file_path1 = 'indicadores_latinoamerica.csv'  # Ruta local donde se guardará el archivo descargado\n",
    "\n",
    "bucket = client.get_bucket(bucket_name)\n",
    "blob1 = bucket.blob(blob_name1)\n",
    "blob1.download_to_filename(local_file_path1)\n",
    "\n",
    "\n",
    "blob_name2 = 'df_geograficos.csv'\n",
    "local_file_path2 = 'df_geograficos.csv'\n",
    "\n",
    "blob2 = bucket.blob(blob_name2)\n",
    "blob2.download_to_filename(local_file_path2)\n",
    "\n",
    "\n",
    "data = pd.read_csv('indicadores_latinoamerica.csv')\n",
    "df_geograficos = pd.read_csv('df_geograficos.csv')\n",
    "\n",
    "porcentaje_nulos = data.isnull().mean(axis=1) * 100\n",
    "filas_con_nulos = porcentaje_nulos[porcentaje_nulos >= 15].index\n",
    "print(filas_con_nulos)\n",
    "data = data.drop(filas_con_nulos)\n",
    "data.drop('Unnamed: 0', axis=1, inplace=True)\n",
    "df_geografico = df_geografico.astype(str)\n",
    "df_geograficos.to_csv('datos_geograficos.csv')\n",
    "data.to_csv('indicadores_latinoamerica_final.csv')\n",
    "\n",
    "\n",
    "bucket_name = 'world_bank_data'\n",
    "blob_name1 = 'indicadores_latinoamerica.csv' \n",
    "blob_name2 = 'df_geograficos.csv'  \n",
    "\n",
    "bucket = client.get_bucket(bucket_name)\n",
    "blob = bucket.blob(blob_name1)\n",
    "blob.upload_from_filename('indicadores_latinoamerica_final.csv')\n",
    "\n",
    "blob = bucket.blob(blob_name2)\n",
    "blob.upload_from_filename('df_geograficos.csv')"
   ]
  }
 ],
 "metadata": {
  "kernelspec": {
   "display_name": "Python 3",
   "language": "python",
   "name": "python3"
  },
  "language_info": {
   "codemirror_mode": {
    "name": "ipython",
    "version": 3
   },
   "file_extension": ".py",
   "mimetype": "text/x-python",
   "name": "python",
   "nbconvert_exporter": "python",
   "pygments_lexer": "ipython3",
   "version": "3.10.11"
  },
  "orig_nbformat": 4
 },
 "nbformat": 4,
 "nbformat_minor": 2
}
