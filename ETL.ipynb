{
 "cells": [
  {
   "cell_type": "code",
   "execution_count": 15,
   "metadata": {},
   "outputs": [],
   "source": [
    "import pandas as pd\n",
    "import matplotlib.pyplot as plt\n",
    "import seaborn as sns"
   ]
  },
  {
   "cell_type": "code",
   "execution_count": 11,
   "metadata": {},
   "outputs": [],
   "source": [
    "indicadores = [\n",
    "    \"NY.GNP.PCAP.CD\",  # PIB per cápita\n",
    "    \"SP.DYN.LE00.IN\",  # Esperanza de vida al nacer\n",
    "    \"SH.DYN.MORT\",  # Mortalidad infantil\n",
    "    \"SE.ADT.LITR.ZS\",  # Tasa de alfabetización\n",
    "    \"SE.XPD.TOTL.GD.ZS\",  # Gasto en educación\n",
    "    \"SH.H2O.SAFE.ZS\",  # Acceso a agua potable\n",
    "    \"SH.MED.BEDS.ZS\",  # Acceso a servicios de salud\n",
    "    \"SL.UEM.TOTL.ZS\",  # Desempleo\n",
    "    \"HDI\",  # Índice de desarrollo humano (IDH)\n",
    "    \"SP.DYN.TFRT.IN\"  # Tasa de fecundidad\n",
    "]\n",
    "\n",
    "data = pd.read_csv('WDIData.csv')\n",
    "indicadores_df = data.loc[data['Indicator Code'].isin(indicadores)]"
   ]
  },
  {
   "cell_type": "code",
   "execution_count": 14,
   "metadata": {},
   "outputs": [],
   "source": [
    "# Lista de países de América Latina\n",
    "paises_latinoamerica = ['Argentina', 'Bolivia', 'Brazil', 'Chile', 'Colombia', 'Costa Rica', 'Cuba', 'Dominican Republic',\n",
    " 'Ecuador', 'El Salvador', 'Guatemala', 'Haiti', 'Honduras', 'Mexico', 'Nicaragua', 'Panama', 'Paraguay', 'Peru', 'Puerto Rico', 'Uruguay', 'Venezuela']\n",
    "\n",
    "indicadores_latinoamerica = indicadores_df.loc[indicadores_df['Country Name'].isin(paises_latinoamerica)]\n",
    "indicadores_latinoamerica.to_csv('indicadores_latinoamerica.csv')\n"
   ]
  },
  {
   "cell_type": "code",
   "execution_count": 28,
   "metadata": {},
   "outputs": [
    {
     "name": "stdout",
     "output_type": "stream",
     "text": [
      "<class 'pandas.core.frame.DataFrame'>\n",
      "RangeIndex: 160 entries, 0 to 159\n",
      "Data columns (total 69 columns):\n",
      " #   Column          Non-Null Count  Dtype  \n",
      "---  ------          --------------  -----  \n",
      " 0   index           160 non-null    int64  \n",
      " 1   Country Name    160 non-null    object \n",
      " 2   Country Code    160 non-null    object \n",
      " 3   Indicator Name  160 non-null    object \n",
      " 4   Indicator Code  160 non-null    object \n",
      " 5   1960            76 non-null     float64\n",
      " 6   1961            58 non-null     float64\n",
      " 7   1962            71 non-null     float64\n",
      " 8   1963            71 non-null     float64\n",
      " 9   1964            72 non-null     float64\n",
      " 10  1965            72 non-null     float64\n",
      " 11  1966            73 non-null     float64\n",
      " 12  1967            74 non-null     float64\n",
      " 13  1968            74 non-null     float64\n",
      " 14  1969            75 non-null     float64\n",
      " 15  1970            100 non-null    float64\n",
      " 16  1971            81 non-null     float64\n",
      " 17  1972            79 non-null     float64\n",
      " 18  1973            80 non-null     float64\n",
      " 19  1974            80 non-null     float64\n",
      " 20  1975            95 non-null     float64\n",
      " 21  1976            82 non-null     float64\n",
      " 22  1977            81 non-null     float64\n",
      " 23  1978            82 non-null     float64\n",
      " 24  1979            84 non-null     float64\n",
      " 25  1980            99 non-null     float64\n",
      " 26  1981            85 non-null     float64\n",
      " 27  1982            88 non-null     float64\n",
      " 28  1983            83 non-null     float64\n",
      " 29  1984            87 non-null     float64\n",
      " 30  1985            93 non-null     float64\n",
      " 31  1986            84 non-null     float64\n",
      " 32  1987            83 non-null     float64\n",
      " 33  1988            79 non-null     float64\n",
      " 34  1989            87 non-null     float64\n",
      " 35  1990            105 non-null    float64\n",
      " 36  1991            105 non-null    float64\n",
      " 37  1992            107 non-null    float64\n",
      " 38  1993            122 non-null    float64\n",
      " 39  1994            111 non-null    float64\n",
      " 40  1995            111 non-null    float64\n",
      " 41  1996            129 non-null    float64\n",
      " 42  1997            103 non-null    float64\n",
      " 43  1998            113 non-null    float64\n",
      " 44  1999            113 non-null    float64\n",
      " 45  2000            124 non-null    float64\n",
      " 46  2001            119 non-null    float64\n",
      " 47  2002            127 non-null    float64\n",
      " 48  2003            125 non-null    float64\n",
      " 49  2004            122 non-null    float64\n",
      " 50  2005            125 non-null    float64\n",
      " 51  2006            130 non-null    float64\n",
      " 52  2007            139 non-null    float64\n",
      " 53  2008            134 non-null    float64\n",
      " 54  2009            133 non-null    float64\n",
      " 55  2010            144 non-null    float64\n",
      " 56  2011            145 non-null    float64\n",
      " 57  2012            144 non-null    float64\n",
      " 58  2013            145 non-null    float64\n",
      " 59  2014            148 non-null    float64\n",
      " 60  2015            151 non-null    float64\n",
      " 61  2016            148 non-null    float64\n",
      " 62  2017            142 non-null    float64\n",
      " 63  2018            135 non-null    float64\n",
      " 64  2019            125 non-null    float64\n",
      " 65  2020            122 non-null    float64\n",
      " 66  2021            110 non-null    float64\n",
      " 67  2022            20 non-null     float64\n",
      " 68  Unnamed: 67     0 non-null      float64\n",
      "dtypes: float64(64), int64(1), object(4)\n",
      "memory usage: 86.4+ KB\n"
     ]
    }
   ],
   "source": [
    "indicadores_latinoamerica.reset_index(inplace=True)\n",
    "indicadores_latinoamerica.info()"
   ]
  },
  {
   "cell_type": "code",
   "execution_count": 31,
   "metadata": {},
   "outputs": [
    {
     "name": "stdout",
     "output_type": "stream",
     "text": [
      "Int64Index([  2,   3,   5,   7,   9,  10,  11,  13,  15,  18,  19,  21,  23,\n",
      "             26,  27,  29,  31,  34,  35,  37,  39,  42,  43,  45,  47,  49,\n",
      "             50,  51,  53,  55,  58,  59,  61,  63,  66,  67,  69,  71,  74,\n",
      "             75,  77,  79,  82,  83,  85,  87,  89,  90,  91,  93,  95,  98,\n",
      "             99, 101, 103, 106, 107, 109, 111, 114, 115, 117, 119, 122, 123,\n",
      "            125, 127, 129, 130, 131, 133, 135, 138, 139, 141, 143, 146, 147,\n",
      "            149, 150, 151, 154, 155, 157, 159],\n",
      "           dtype='int64')\n"
     ]
    }
   ],
   "source": [
    "porcentaje_nulos = indicadores_latinoamerica.isnull().mean(axis=1) * 100\n",
    "filas_con_nulos = porcentaje_nulos[porcentaje_nulos >= 20].index\n",
    "print(filas_con_nulos)\n"
   ]
  },
  {
   "cell_type": "code",
   "execution_count": null,
   "metadata": {},
   "outputs": [],
   "source": [
    "indicadores_latinoamerica = indicadores_latinoamerica.drop(filas_con_nulos)"
   ]
  },
  {
   "cell_type": "code",
   "execution_count": 42,
   "metadata": {},
   "outputs": [],
   "source": [
    "columnas_float = ['1960', '1961', '1962', '1963', '1964', '1965',\n",
    "       '1966', '1967', '1968', '1969', '1970', '1971', '1972', '1973', '1974',\n",
    "       '1975', '1976', '1977', '1978', '1979', '1980', '1981', '1982', '1983',\n",
    "       '1984', '1985', '1986', '1987', '1988', '1989', '1990', '1991', '1992',\n",
    "       '1993', '1994', '1995', '1996', '1997', '1998', '1999', '2000', '2001',\n",
    "       '2002', '2003', '2004', '2005', '2006', '2007', '2008', '2009', '2010',\n",
    "       '2011', '2012', '2013', '2014', '2015', '2016', '2017', '2018', '2019',\n",
    "       '2020', '2021', '2022']\n",
    "\n",
    "indicadores_latinoamerica[columnas_float] = indicadores_latinoamerica[columnas_float].astype('float')\n",
    "\n",
    "# Aplicar interpolación por fila\n",
    "indicadores_latinoamerica[columnas_float] = indicadores_latinoamerica[columnas_float].interpolate(axis=1)"
   ]
  },
  {
   "cell_type": "code",
   "execution_count": 45,
   "metadata": {},
   "outputs": [],
   "source": [
    "indicadores_latinoamerica = indicadores_latinoamerica.loc[:, ~indicadores_latinoamerica.columns.str.contains('^Unnamed')]\n",
    "\n",
    "indicadores_latinoamerica.to_csv('indicadores_latinoamerica.csv')"
   ]
  }
 ],
 "metadata": {
  "kernelspec": {
   "display_name": "Python 3",
   "language": "python",
   "name": "python3"
  },
  "language_info": {
   "codemirror_mode": {
    "name": "ipython",
    "version": 3
   },
   "file_extension": ".py",
   "mimetype": "text/x-python",
   "name": "python",
   "nbconvert_exporter": "python",
   "pygments_lexer": "ipython3",
   "version": "3.10.5"
  },
  "orig_nbformat": 4
 },
 "nbformat": 4,
 "nbformat_minor": 2
}
#actualización
